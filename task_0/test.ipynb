{
 "metadata": {
  "language_info": {
   "codemirror_mode": {
    "name": "ipython",
    "version": 3
   },
   "file_extension": ".py",
   "mimetype": "text/x-python",
   "name": "python",
   "nbconvert_exporter": "python",
   "pygments_lexer": "ipython3",
   "version": "3.7.6-final"
  },
  "orig_nbformat": 2,
  "kernelspec": {
   "name": "python3",
   "display_name": "Python 3",
   "language": "python"
  }
 },
 "nbformat": 4,
 "nbformat_minor": 2,
 "cells": [
  {
   "cell_type": "code",
   "execution_count": 1,
   "metadata": {},
   "outputs": [],
   "source": [
    "import hashlib\n",
    "import getpass"
   ]
  },
  {
   "cell_type": "code",
   "execution_count": 8,
   "metadata": {},
   "outputs": [],
   "source": [
    "MD5Digest = hashlib.md5()\n",
    "SHA1Digest = hashlib.sha1()"
   ]
  },
  {
   "cell_type": "code",
   "execution_count": 9,
   "metadata": {},
   "outputs": [
    {
     "output_type": "stream",
     "name": "stdout",
     "text": [
      "e10adc3949ba59abbe56e057f20f883e\n"
     ]
    },
    {
     "output_type": "execute_result",
     "data": {
      "text/plain": [
       "'81255cb0dca1a5f304328a70ac85dcbd'"
      ]
     },
     "metadata": {},
     "execution_count": 9
    }
   ],
   "source": [
    "code = '123456'\n",
    "MD5Digest.update(code.encode('utf8'))\n",
    "print(MD5Digest.hexdigest())\n",
    "MD5Digest.update('111111'.encode('utf8'))\n",
    "MD5Digest.hexdigest()"
   ]
  },
  {
   "cell_type": "code",
   "execution_count": 11,
   "metadata": {},
   "outputs": [
    {
     "output_type": "stream",
     "name": "stdout",
     "text": [
      "81255cb0dca1a5f304328a70ac85dcbd\n"
     ]
    }
   ],
   "source": [
    "print(hashlib.md5('123456111111'.encode('utf8')).hexdigest())"
   ]
  },
  {
   "cell_type": "code",
   "execution_count": 13,
   "metadata": {},
   "outputs": [],
   "source": [
    "username = input('input the username: ')\n",
    "password = getpass.getpass('input the password: ')"
   ]
  },
  {
   "cell_type": "code",
   "execution_count": 14,
   "metadata": {},
   "outputs": [],
   "source": [
    "unDigest = hashlib.sha1(username.encode('utf8'))\n",
    "pwDigest = hashlib.sha1(password.encode('utf8'))"
   ]
  },
  {
   "cell_type": "code",
   "execution_count": 12,
   "metadata": {},
   "outputs": [
    {
     "output_type": "stream",
     "name": "stdout",
     "text": [
      "username digest: a8e48c4dea2f885f91a639a4a2068e2e\npassword digest: 3baed2ea1982e2ac27abebbc27c185f3\n"
     ]
    }
   ],
   "source": [
    "print('username digest: ' + unDigest_final.hexdigest())\n",
    "print('password digest: ' + pwDigest_final.hexdigest())"
   ]
  },
  {
   "cell_type": "code",
   "execution_count": 11,
   "metadata": {},
   "outputs": [],
   "source": [
    "unDigest_final = hashlib.md5(unDigest.hexdigest().encode('utf8'))\n",
    "pwDigest_final = hashlib.md5(pwDigest.hexdigest().encode('utf8'))"
   ]
  },
  {
   "cell_type": "code",
   "execution_count": 5,
   "metadata": {},
   "outputs": [],
   "source": [
    "MD5Digest.update('Hello, world!'.encode('utf8'))\n",
    "SHA1Digest.update(b'Hello, world!')"
   ]
  },
  {
   "cell_type": "code",
   "execution_count": 6,
   "metadata": {},
   "outputs": [
    {
     "output_type": "stream",
     "name": "stdout",
     "text": [
      "6cd3556deb0da54bca060b4c39479839\n943a702d06f34599aee1f8da8ef9f7296031d699\n"
     ]
    }
   ],
   "source": [
    "print(MD5Digest.hexdigest())\n",
    "print(SHA1Digest.hexdigest())"
   ]
  },
  {
   "cell_type": "code",
   "execution_count": 15,
   "metadata": {},
   "outputs": [],
   "source": [
    "pwd = '123456'\n",
    "Digest0 = hashlib.md5(pwd.encode(\"utf8\"))\n",
    "saltpwd = \"20210129\" + Digest0.hexdigest()\n",
    "newDigest = hashlib.md5(saltpwd.encode(\"utf8\"))\n",
    "# Digest1 = hashlib.md5(saltpwd.encode(\"utf8\"))\n",
    "# Digest2 = hashlib.md5(\"Addsalt\".encode(\"utf8\"))\n",
    "# Digest2.update(pwd.encode(\"utf8\"))"
   ]
  },
  {
   "cell_type": "code",
   "execution_count": 16,
   "metadata": {},
   "outputs": [
    {
     "output_type": "stream",
     "name": "stdout",
     "text": [
      "No salt: e10adc3949ba59abbe56e057f20f883e\nDouble md5(salt): 6967dd777e2cec480afa7f781a824ec8\n"
     ]
    }
   ],
   "source": [
    "print(\"No salt: \" + Digest0.hexdigest())\n",
    "print(\"Double md5(salt): \" + newDigest.hexdigest()) \n",
    "# print(\"Add salt: \" + Digest1.hexdigest())\n",
    "# print(\"Add salt: \" + Digest2.hexdigest())"
   ]
  },
  {
   "cell_type": "code",
   "execution_count": 25,
   "metadata": {},
   "outputs": [
    {
     "output_type": "stream",
     "name": "stdout",
     "text": [
      "6080*2274+2260*(6080+2274)\n32705960\n"
     ]
    }
   ],
   "source": [
    "import requests\n",
    "import re\n",
    "url = \"http://lab1.xseclab.com/xss2_0d557e6d2a4ac08b749b61473a075be1/index.php\"\n",
    "head = {'Cookie': 'PHPSESSID=d33f24a36c7c43fbe2f17fc26897817d'}\n",
    "respond = requests.get(url, headers=head).content.decode('utf-8')\n",
    "forum = re.search(r'\\d+(\\*)\\d+(\\+)\\d+(\\*)\\(\\d+(\\+)\\d+\\)', respond).group()\n",
    "res = eval(str(forum))\n",
    "print(forum)\n",
    "print(res)\n",
    "key = requests.post(url, headers=head, data={'v': res}).content.decode('utf-8')"
   ]
  },
  {
   "cell_type": "code",
   "execution_count": 26,
   "metadata": {},
   "outputs": [
    {
     "output_type": "execute_result",
     "data": {
      "text/plain": [
       "'<html>\\n    <head>\\n        <meta http-equiv=Content-Type content=\"text/html;charset=utf-8\">\\n    </head>\\n    <body>key is 123iohHKHJ%^&*(jkh   </body>\\n</html>'"
      ]
     },
     "metadata": {},
     "execution_count": 26
    }
   ],
   "source": [
    "key"
   ]
  },
  {
   "cell_type": "code",
   "execution_count": null,
   "metadata": {},
   "outputs": [],
   "source": []
  }
 ]
}
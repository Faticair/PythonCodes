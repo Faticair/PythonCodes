{
 "metadata": {
  "language_info": {
   "codemirror_mode": {
    "name": "ipython",
    "version": 3
   },
   "file_extension": ".py",
   "mimetype": "text/x-python",
   "name": "python",
   "nbconvert_exporter": "python",
   "pygments_lexer": "ipython3",
   "version": "3.7.6-final"
  },
  "orig_nbformat": 2,
  "kernelspec": {
   "name": "python3",
   "display_name": "Python 3.7.6 64-bit (conda)",
   "metadata": {
    "interpreter": {
     "hash": "a8f61be024eba58adef938c9aa1e29e02cb3dece83a5348b1a2dafd16a070453"
    }
   }
  }
 },
 "nbformat": 4,
 "nbformat_minor": 2,
 "cells": [
  {
   "cell_type": "code",
   "execution_count": null,
   "metadata": {},
   "outputs": [],
   "source": [
    "import csv\n",
    "import os"
   ]
  },
  {
   "cell_type": "code",
   "execution_count": null,
   "metadata": {},
   "outputs": [],
   "source": [
    "print(os.listdir(os.getcwd()))"
   ]
  },
  {
   "cell_type": "code",
   "execution_count": 38,
   "metadata": {},
   "outputs": [],
   "source": [
    "def read_csv_file(csvfilepath):\n",
    "    hashdic = {}\n",
    "    idlist = []\n",
    "    with open(csvfilepath, encoding='utf-8') as csv_file:\n",
    "        csv_reader = csv.reader(csv_file, delimiter=',')\n",
    "        for row in csv_reader:\n",
    "            hashdic[row[0]] = row[1:]\n",
    "            idlist.append(row[0])\n",
    "    return hashdic, idlist"
   ]
  },
  {
   "cell_type": "code",
   "execution_count": 41,
   "metadata": {
    "tags": []
   },
   "outputs": [
    {
     "output_type": "stream",
     "name": "stdout",
     "text": [
      "['WIFI-AP-LJZ-S25-A1-7', '446a-2e04-1e60', 'default', '10.0.27.220', 'AP5030DN', 'V200R007C20SPCa00', '21500826608WH7000020', 'normal']\n"
     ]
    }
   ],
   "source": [
    "hashdic, idlist = read_csv_file(os.getcwd() + os.sep + 'aplist.csv')\n",
    "# with open(os.getcwd() + os.sep + 'aplist.csv', encoding='utf-8') as csv_file:\n",
    "#     csv_reader = csv.reader(csv_file, delimiter=',')\n",
    "#     for row in csv_reader:\n",
    "#         hashdic[row[0]] = row[1:]\n",
    "#         idlist.append(row[0])\n",
    "print(hashdic[str(12)])"
   ]
  },
  {
   "cell_type": "code",
   "execution_count": 40,
   "metadata": {},
   "outputs": [
    {
     "output_type": "stream",
     "name": "stdout",
     "text": [
      "['WIFI-AP-LJZ-S25-A1-7', '446a-2e04-1e60', 'default', '10.0.27.220', 'AP5030DN', 'V200R007C20SPCa00', '21500826608WH7000020', 'normal']\n"
     ]
    }
   ],
   "source": [
    "hashdic_diff, idlist_diff = read_csv_file(os.getcwd() + os.sep + 'aplist_diff.csv')\n",
    "print(hashdic_diff[str(12)])"
   ]
  },
  {
   "cell_type": "code",
   "execution_count": 42,
   "metadata": {},
   "outputs": [
    {
     "output_type": "stream",
     "name": "stdout",
     "text": [
      "﻿AP ID: AP名称 ---- ﻿AP ID: AP名称\n0: WIFI-AP-WGQ-3L-C1-2 ---- 0: WIFI-AP-WGQ-3L-C1-2\n1: WIFI-AP-LJZ-S6-A1-8 ---- 1: WIFI-AP-LJZ-S6-A1-8\n2: WIFI-AP-LJZ-S6-A1-2 ---- 2: WIFI-AP-LJZ-S6-A1-2\n3: WIFI-AP-LJZ-S6-A1-4 ---- 3: WIFI-AP-LJZ-S6-A1-4\n4: WIFI-AP-LJZ-S6-A1-3 ---- 4: WIFI-AP-LJZ-S6-A1-3\n5: WIFI-AP-LJZ-S6-A1-6 ---- 5: WIFI-AP-LJZ-S6-A1-6\n6: WIFI-AP-LJZ-S6-A1-9 ---- 6: WIFI-AP-LJZ-S6-A1-9\n7: WIFI-AP-LJZ-S25-A1-3 ---- 7: WIFI-AP-LJZ-S25-A1-3\n8: WIFI-AP-LJZ-S25-A1-10 ---- 8: WIFI-AP-LJZ-S25-A1-10\n9: WIFI-AP-LJZ-S25-A1-9 ---- 9: WIFI-AP-LJZ-S25-A1-9\n10: WIFI-AP-LJZ-S25-A1-6 ---- 10: WIFI-AP-LJZ-S25-A1-6\n11: WIFI-AP-LJZ-S25-A1-2 ---- 11: WIFI-AP-LJZ-S25-A1-2\n12: WIFI-AP-LJZ-S25-A1-7 ---- 12: WIFI-AP-LJZ-S25-A1-7\n13: WIFI-AP-LJZ-S25-A1-1 ---- 13: WIFI-AP-LJZ-S25-A1-1\n14: WIFI-AP-LJZ-S4-A1-3 ---- 14: WIFI-AP-LJZ-S4-A1-3\n15: WIFI-AP-LJZ-S4-A1-6 ---- 15: WIFI-AP-LJZ-S4-A1-6\n16: WIFI-AP-LJZ-S4-A1-8 ---- 16: WIFI-AP-LJZ-S4-A1-8\n17: WIFI-AP-LJZ-S4-A1-1 ---- 17: WIFI-AP-LJZ-S4-A1-1\n18: WIFI-AP-LJZ-S4-A1-5 ---- 18: WIFI-AP-LJZ-S4-A1-5\n19: WIFI-AP-LJZ-N25-A1-6 ---- 19: WIFI-AP-LJZ-N25-A1-6\n20: WIFI-AP-LJZ-N25-A1-1 ---- 20: WIFI-AP-LJZ-N25-A1-1\n21: WIFI-AP-LJZ-N25-A1-11 ---- 21: WIFI-AP-LJZ-N25-A1-11\n22: WIFI-AP-LJZ-N25-A1-9 ---- 22: WIFI-AP-LJZ-N25-A1-9\n23: WIFI-AP-LJZ-N25-A1-14 ---- 23: WIFI-AP-LJZ-N25-A1-14\n24: WIFI-AP-LJZ-N25-A1-12 ---- 24: WIFI-AP-LJZ-N25-A1-12\n25: WIFI-AP-LJZ-N25-A1-5 ---- 25: WIFI-AP-LJZ-N25-A1-5\n26: WIFI-AP-LJZ-N25-A1-2 ---- 26: WIFI-AP-LJZ-N25-A1-2\n27: WIFI-AP-LJZ-N25-A1-3 ---- 27: WIFI-AP-LJZ-N25-A1-3\n28: WIFI-AP-LJZ-N25-A1-13 ---- 28: WIFI-AP-LJZ-N25-A1-13\n29: WIFI-AP-LJZ-N9-A1-1 ---- 29: WIFI-AP-LJZ-N9-A1-1\n30: WIFI-AP-LJZ-N9-A1-2 ---- 30: WIFI-AP-LJZ-N9-A1-2\n31: WIFI-AP-LJZ-N9-A1-5 ---- 31: WIFI-AP-LJZ-N9-A1-5\n32: WIFI-AP-LJZ-N9-A1-4 ---- 32: WIFI-AP-LJZ-N9-A1-4\n33: WIFI-AP-LJZ-N9-A1-14 ---- 33: WIFI-AP-LJZ-N9-A1-14\n34: WIFI-AP-LJZ-N9-A1-8 ---- 34: WIFI-AP-LJZ-N9-A1-8\n35: WIFI-AP-LJZ-N9-A1-10 ---- 35: WIFI-AP-LJZ-N9-A1-10\n36: WIFI-AP-LJZ-N9-A1-11 ---- 36: WIFI-AP-LJZ-N9-A1-11\n37: WIFI-AP-LJZ-N9-A1-12 ---- 37: WIFI-AP-LJZ-N9-A1-12\n38: WIFI-AP-LJZ-N9-A1-13 ---- 38: WIFI-AP-LJZ-N9-A1-13\n39: WIFI-AP-LJZ-N9-A1-7 ---- 39: WIFI-AP-LJZ-N9-A1-7\n40: WIFI-AP-LJZ-N9-A1-3 ---- 40: WIFI-AP-LJZ-N9-A1-3\n41: WIFI-AP-LJZ-N9-A1-6 ---- 41: WIFI-AP-LJZ-N9-A1-6\n42: WIFI-AP-LJZ-N5-D1-2 ---- 42: WIFI-AP-LJZ-N5-D1-2\n43: WIFI-AP-LJZ-N5-D1-1 ---- 43: WIFI-AP-LJZ-N5-D1-1\n44: WIFI-AP-LJZ-N5-D1-3 ---- 44: WIFI-AP-LJZ-N5-D1-3\n45: WIFI-AP-LJZ-N25-A1-7 ---- 45: WIFI-AP-LJZ-N25-A1-7\n46: WIFI-AP-LJZ-S25-A1-4 ---- 46: WIFI-AP-LJZ-S25-A1-4\n48: WIFI-AP-LJZ-S25-A1-8 ---- 48: WIFI-AP-LJZ-S25-A1-8\n49: WIFI-AP-LJZ-N25-A1-10 ---- 49: WIFI-AP-LJZ-N25-A1-10\n50: WIFI-AP-LJZ-N9-A1-15 ---- 50: WIFI-AP-LJZ-N9-A1-15\n51: WIFI-AP-LJZ-N5-D1-4 ---- 51: WIFI-AP-LJZ-N5-D1-4\n52: WIFI-AP-LJZ-N2-A1-5 ---- 52: WIFI-AP-LJZ-N2-A1-5\n53: 10c1-7208-abe0 ---- 53: 10c1-7208-abe0\n54: WIFI-AP-LJZ-N2-A1-4 ---- 54: WIFI-AP-LJZ-N2-A1-4\n55: WIFI-AP-LJZ-N2-A1-7 ---- 55: WIFI-AP-LJZ-N2-A1-7\n56: WIFI-AP-LJZ-N2-A1-6 ---- 56: WIFI-AP-LJZ-N2-A1-6\n57: WIFI-AP-LJZ-N2-A1-3 ---- 57: WIFI-AP-LJZ-N2-A1-3\n58: WIFI-AP-LJZ-N3-A1-4 ---- 58: WIFI-AP-LJZ-N3-A1-4\n59: WIFI-AP-LJZ-N3-A1-1 ---- 59: WIFI-AP-LJZ-N3-A1-1\n60: WIFI-AP-LJZ-N7-A1-8 ---- 60: WIFI-AP-LJZ-N7-A1-8\n61: WIFI-AP-LJZ-N7-A1-5 ---- 61: WIFI-AP-LJZ-N7-A1-5\n62: WIFI-AP-LJZ-N7-A1-1 ---- 62: WIFI-AP-LJZ-N7-A1-1\n63: WIFI-AP-LJZ-N7-A1-3 ---- 63: WIFI-AP-LJZ-N7-A1-3\n64: WIFI-AP-LJZ-S13-A1-3 ---- 64: WIFI-AP-LJZ-S13-A1-3\n65: WIFI-AP-LJZ-S13-A1-6 ---- 65: WIFI-AP-LJZ-S13-A1-6\n66: WIFI-AP-LJZ-S13-A1-7 ---- 66: WIFI-AP-LJZ-S13-A1-7\n67: WIFI-AP-LJZ-S13-A1-5 ---- 67: WIFI-AP-LJZ-S13-A1-5\n68: WIFI-AP-LJZ-S6-A1-10 ---- 68: WIFI-AP-LJZ-S6-A1-10\n69: WIFI-AP-LJZ-S13-A1-1 ---- 69: WIFI-AP-LJZ-S13-A1-1\n70: WIFI-AP-LJZ-S13-A1-8 ---- 70: WIFI-AP-LJZ-S13-A1-8\n71: WIFI-AP-LJZ-S13-A1-4 ---- 71: WIFI-AP-LJZ-S13-A1-4\n72: WIFI-AP-LJZ-S13-A1-2 ---- 72: WIFI-AP-LJZ-S13-A1-2\n73: WIFI-AP-LJZ-S12-A1-6 ---- 73: WIFI-AP-LJZ-S12-A1-6\n74: WIFI-AP-LJZ-S12-A1-8 ---- 74: WIFI-AP-LJZ-S12-A1-8\n75: WIFI-AP-LJZ-S12-A1-3 ---- 75: WIFI-AP-LJZ-S12-A1-3\n76: WIFI-AP-LJZ-S12-A1-1 ---- 76: WIFI-AP-LJZ-S12-A1-1\n77: WIFI-AP-LJZ-S12-A1-7 ---- 77: WIFI-AP-LJZ-S12-A1-7\n78: WIFI-AP-LJZ-S12-A1-4 ---- 78: WIFI-AP-LJZ-S12-A1-4\n79: WIFI-AP-LJZ-S12-A1-2 ---- 79: WIFI-AP-LJZ-S12-A1-2\n80: WIFI-AP-LJZ-N8-A1-1 ---- 80: WIFI-AP-LJZ-N8-A1-1\n81: WIFI-AP-LJZ-S11-A1-8 ---- 81: WIFI-AP-LJZ-S11-A1-8\n82: WIFI-AP-LJZ-S11-A1-6 ---- 82: WIFI-AP-LJZ-S11-A1-6\n83: WIFI-AP-LJZ-S11-A1-3 ---- 83: WIFI-AP-LJZ-S11-A1-3\n84: WIFI-AP-LJZ-S11-A1-4 ---- 84: WIFI-AP-LJZ-S11-A1-4\n85: WIFI-AP-LJZ-S11-A1-1 ---- 85: WIFI-AP-LJZ-S11-A1-1\n86: WIFI-AP-LJZ-S10-A1-4 ---- 86: WIFI-AP-LJZ-S10-A1-4\n87: WIFI-AP-LJZ-S10-A1-5 ---- 87: WIFI-AP-LJZ-S10-A1-5\n88: WIFI-AP-LJZ-S10-A1-6 ---- 88: WIFI-AP-LJZ-S10-A1-6\n89: 506f-77ea-da80 ---- 89: 506f-77ea-da80\n90: WIFI-AP-LJZ-S10-A1-1 ---- 90: WIFI-AP-LJZ-S10-A1-1\n91: WIFI-AP-LJZ-S10-A1-7 ---- 91: WIFI-AP-LJZ-S10-A1-7\n92: WIFI-AP-LJZ-S10-A1-2 ---- 92: WIFI-AP-LJZ-S10-A1-2\n93: WIFI-AP-LJZ-N6-A1-2 ---- 93: WIFI-AP-LJZ-N6-A1-2\n94: 446a-2e04-2780 ---- 94: 446a-2e04-2780\n95: WIFI-AP-LJZ-N6-A1-5 ---- 95: WIFI-AP-LJZ-N6-A1-5\n96: WIFI-AP-LJZ-N6-A1-8 ---- 96: WIFI-AP-LJZ-N6-A1-8\n97: WIFI-AP-LJZ-N6-A1-3 ---- 97: WIFI-AP-LJZ-N6-A1-3\n98: WIFI-AP-LJZ-N6-A1-9 ---- 98: WIFI-AP-LJZ-N6-A1-9\n100: WIFI-AP-LJZ-N6-A1-7 ---- 100: WIFI-AP-LJZ-N6-A1-7\n102: WIFI-AP-LJZ-S8-A1-6 ---- 102: WIFI-AP-LJZ-S8-A1-6\n103: WIFI-AP-LJZ-S8-A1-9 ---- 103: WIFI-AP-LJZ-S8-A1-9\n104: WIFI-AP-LJZ-S8-A1-5 ---- 104: WIFI-AP-LJZ-S8-A1-5\n105: WIFI-AP-LJZ-S8-A1-1 ---- 105: WIFI-AP-LJZ-S8-A1-1\n106: WIFI-AP-LJZ-S8-A1-7 ---- 106: WIFI-AP-LJZ-S8-A1-7\n107: WIFI-AP-LJZ-S8-A1-3 ---- 107: WIFI-AP-LJZ-S8-A1-3\n108: WIFI-AP-LJZ-S5-A1-1 ---- 108: WIFI-AP-LJZ-S5-A1-1\n109: WIFI-AP-LJZ-S5-A1-5 ---- 109: WIFI-AP-LJZ-S5-A1-5\n110: WIFI-AP-LJZ-S5-A1-6 ---- 110: WIFI-AP-LJZ-S5-A1-6\n111: WIFI-AP-LJZ-S5-A1-4 ---- 111: WIFI-AP-LJZ-S5-A1-4\n112: WIFI-AP-LJZ-S5-A1-2 ---- 112: WIFI-AP-LJZ-S5-A1-2\n114: WIFI-AP-LJZ-S3-A1-5 ---- 114: WIFI-AP-LJZ-S3-A1-5\n115: WIFI-AP-LJZ-S3-A1-1 ---- 115: WIFI-AP-LJZ-S3-A1-1\n116: WIFI-AP-LJZ-S7-A1-5 ---- 116: WIFI-AP-LJZ-S7-A1-5\n117: WIFI-AP-LJZ-S3-A1-3 ---- 117: WIFI-AP-LJZ-S3-A1-3\n118: WIFI-AP-LJZ-S7-A1-4 ---- 118: WIFI-AP-LJZ-S7-A1-4\n119: WIFI-AP-LJZ-S7-A1-2 ---- 119: WIFI-AP-LJZ-S7-A1-2\n120: WIFI-AP-LJZ-S2-A1-2 ---- 121: WIFI-AP-LJZ-S2-A1-1\n121: WIFI-AP-LJZ-S2-A1-1 ---- 122: WIFI-AP-LJZ-S7-A1-1\n122: WIFI-AP-LJZ-S7-A1-1 ---- 123: WIFI-AP-LJZ-S7-A1-3\n123: WIFI-AP-LJZ-S7-A1-3 ---- 124: WIFI-AP-LJZ-S2-A1-3\n124: WIFI-AP-LJZ-S2-A1-3 ---- 134: WIFI-AP-LJZ-S2-A1-4\n134: WIFI-AP-LJZ-S2-A1-4 ---- 135: WIFI-AP-LJZ-S2-A1-5\n135: WIFI-AP-LJZ-S2-A1-5 ---- 136: WIFI-AP-LJZ-S9-A1-7\n136: WIFI-AP-LJZ-S9-A1-7 ---- 137: WIFI-AP-LJZ-S9-A1-8\n137: WIFI-AP-LJZ-S9-A1-8 ---- 138: WIFI-AP-LJZ-S9-A1-6\n138: WIFI-AP-LJZ-S9-A1-6 ---- 139: WIFI-AP-LJZ-S9-A1-3\n139: WIFI-AP-LJZ-S9-A1-3 ---- 140: WIFI-AP-LJZ-S9-A1-4\n140: WIFI-AP-LJZ-S9-A1-4 ---- 141: WIFI-AP-LJZ-S9-A1-5\n141: WIFI-AP-LJZ-S9-A1-5 ---- 142: WIFI-AP-LJZ-S9-A1-2\n142: WIFI-AP-LJZ-S9-A1-2 ---- 143: WIFI-AP-LJZ-S9-A1-1\n143: WIFI-AP-LJZ-S9-A1-1 ---- 144: WIFI-AP-LJZ-S26-A1-3\n144: WIFI-AP-LJZ-S26-A1-3 ---- 145: WIFI-AP-LJZ-S26-A1-8\n145: WIFI-AP-LJZ-S26-A1-8 ---- 146: WIFI-AP-LJZ-S26-A1-4\n146: WIFI-AP-LJZ-S26-A1-4 ---- 147: WIFI-AP-LJZ-S26-A1-1\n147: WIFI-AP-LJZ-S26-A1-1 ---- 148: WIFI-AP-LJZ-S26-A1-7\n148: WIFI-AP-LJZ-S26-A1-7 ---- 149: WIFI-AP-LJZ-S26-A1-2\n149: WIFI-AP-LJZ-S26-A1-2 ---- 150: WIFI-AP-LJZ-S26-A1-5\n150: WIFI-AP-LJZ-S26-A1-5 ---- 151: WIFI-AP-LJZ-S26-A1-6\n151: WIFI-AP-LJZ-S26-A1-6 ---- 152: WIFI-AP-LJZ-S4-A1-10\n152: WIFI-AP-LJZ-S4-A1-10 ---- 153: WIFI-AP-LJZ-N5-A1-5\n153: WIFI-AP-LJZ-N5-A1-5 ---- 154: WIFI-LJZ-S-B1-6\n154: WIFI-LJZ-S-B1-6 ---- 155: WIFI-LJZ-S-B1-5\n155: WIFI-LJZ-S-B1-5 ---- 156: WIFI-LJZ-S-B1-2\n156: WIFI-LJZ-S-B1-2 ---- 157: WIFI-LJZ-S-B1-1\n157: WIFI-LJZ-S-B1-1 ---- 158: WIFI-LJZ-S-B1-7\n158: WIFI-LJZ-S-B1-7 ---- 159: WIFI-LJZ-S-B1-3\n159: WIFI-LJZ-S-B1-3 ---- 160: WIFI-LJZ-N8-A1-3\n160: WIFI-LJZ-N8-A1-3 ---- 161: WIFI-LJZ-N8-A1-7\n161: WIFI-LJZ-N8-A1-7 ---- 162: WIFI-LJZ-N8-A1-9\n162: WIFI-LJZ-N8-A1-9 ---- 163: WIFI-LJZ-N8-A1-2\n163: WIFI-LJZ-N8-A1-2 ---- 164: WIFI-LJZ-N8-A1-6\n164: WIFI-LJZ-N8-A1-6 ---- 165: WIFI-AP-YCL-3L-A1-1\n165: WIFI-AP-YCL-3L-A1-1 ---- 166: WIFI-AP-YCL-3L-A1-3\n166: WIFI-AP-YCL-3L-A1-3 ---- 167: WIFI-AP-YCL-6L-A1-2\n167: WIFI-AP-YCL-6L-A1-2 ---- 168: WIFI-AP-YCL-6L-A1-4\n168: WIFI-AP-YCL-6L-A1-4 ---- 171: WIFI-AP-YCL-6L-A1-14\n171: WIFI-AP-YCL-6L-A1-14 ---- 172: WIFI-AP-YCL-6L-A1-17\n172: WIFI-AP-YCL-6L-A1-17 ---- 173: WIFI-AP-YCL-3L-A1-4\n173: WIFI-AP-YCL-3L-A1-4 ---- 174: WIFI-AP-YCL-6L-A1-13\n174: WIFI-AP-YCL-6L-A1-13 ---- 175: WIFI-AP-YCL-6L-A1-16\n175: WIFI-AP-YCL-6L-A1-16 ---- 176: WIFI-AP-YCL-6L-A1-3\n176: WIFI-AP-YCL-6L-A1-3 ---- 178: WIFI-AP-YCL-7L-A1-13\n178: WIFI-AP-YCL-7L-A1-13 ---- 179: WIFI-AP-YCL-7L-A1-15\n179: WIFI-AP-YCL-7L-A1-15 ---- 180: WIFI-AP-YCL-7L-A1-1\n180: WIFI-AP-YCL-7L-A1-1 ---- 182: WIFI-AP-YCL-7L-A1-6\n182: WIFI-AP-YCL-7L-A1-6 ---- 183: WIFI-AP-YCL-7L-A1-2\n183: WIFI-AP-YCL-7L-A1-2 ---- 185: WIFI-AP-YCL-3L-A1-8\n185: WIFI-AP-YCL-3L-A1-8 ---- 188: WIFI-AP-YCL-6L-A1-1\n188: WIFI-AP-YCL-6L-A1-1 ---- 189: WIFI-AP-YCL-7L-A1-5\n189: WIFI-AP-YCL-7L-A1-5 ---- 190: WIFI-AP-YCL-7L-A1-11\n190: WIFI-AP-YCL-7L-A1-11 ---- 191: WIFI-AP-YCL-6L-A1-11\n191: WIFI-AP-YCL-6L-A1-11 ---- 192: WIFI-AP-YCL-7L-A1-17\n192: WIFI-AP-YCL-7L-A1-17 ---- 193: WIFI-AP-YCL-6L-A1-18\n193: WIFI-AP-YCL-6L-A1-18 ---- 194: WIFI-AP-YCL-6L-A1-7\n194: WIFI-AP-YCL-6L-A1-7 ---- 195: WIFI-AP-YCL-7L-A1-7\n195: WIFI-AP-YCL-7L-A1-7 ---- 196: WIFI-AP-YCL-3L-A1-6\n196: WIFI-AP-YCL-3L-A1-6 ---- 197: WIFI-AP-YCL-1L-A1-7\n197: WIFI-AP-YCL-1L-A1-7 ---- 198: WIFI-AP-YCL-7L-A1-10\n198: WIFI-AP-YCL-7L-A1-10 ---- 199: WIFI-AP-YCL-6L-A1-12\n199: WIFI-AP-YCL-6L-A1-12 ---- 200: WIFI-AP-YCL-6L-A1-15\n200: WIFI-AP-YCL-6L-A1-15 ---- 201: WIFI-AP-YCL-7L-A1-3\n201: WIFI-AP-YCL-7L-A1-3 ---- 202: WIFI-AP-YCL-3L-A1-2\n202: WIFI-AP-YCL-3L-A1-2 ---- 203: WIFI-AP-YCL-7L-A1-14\n203: WIFI-AP-YCL-7L-A1-14 ---- 204: WIFI-AP-YCL-7L-A1-9\n204: WIFI-AP-YCL-7L-A1-9 ---- 205: WIFI-AP-YCL-7L-A1-8\n205: WIFI-AP-YCL-7L-A1-8 ---- 206: WIFI-AP-YCL-7L-A1-4\n206: WIFI-AP-YCL-7L-A1-4 ---- 207: WIFI-AP-YCL-3L-A1-7\n207: WIFI-AP-YCL-3L-A1-7 ---- 208: WIFI-AP-YCL-7L-A1-12\n208: WIFI-AP-YCL-7L-A1-12 ---- 209: WIFI-AP-YCL-7L-A1-16\n209: WIFI-AP-YCL-7L-A1-16 ---- 210: WIFI-AP-YCL-1L-A1-10\n210: WIFI-AP-YCL-1L-A1-10 ---- 211: WIFI-AP-YCL-6L-A1-5\n211: WIFI-AP-YCL-6L-A1-5 ---- 213: WIFI-AP-YCL-3L-A1-5\n213: WIFI-AP-YCL-3L-A1-5 ---- 214: WIFI-AP-YCL-2L-C1-23\n214: WIFI-AP-YCL-2L-C1-23 ---- 215: WIFI-AP-WGQ-1L-A1-19\n215: WIFI-AP-WGQ-1L-A1-19 ---- 216: WIFI-AP-LJZ-S4-ECC\n216: WIFI-AP-LJZ-S4-ECC ---- 217: WIFI-AP-WGQ-JS-350-A1-2\n217: WIFI-AP-WGQ-JS-350-A1-2 ---- 218: WIFI-AP-WGQ-JS-350-A1-3\n218: WIFI-AP-WGQ-JS-350-A1-3 ---- 219: WIFI-AP-WGQ-4L-A1-15\n219: WIFI-AP-WGQ-4L-A1-15 ---- 220: WIFI-AP-WGQ-4L-A1-16\n220: WIFI-AP-WGQ-4L-A1-16 ---- 221: WIFI-AP-WGQ-4L-A1-10\n221: WIFI-AP-WGQ-4L-A1-10 ---- 222: WIFI-AP-WGQ-4L-A1-9\n222: WIFI-AP-WGQ-4L-A1-9 ---- 223: WIFI-AP-WGQ-4L-A1-8\n223: WIFI-AP-WGQ-4L-A1-8 ---- 224: WIFI-AP-WGQ-4L-A1-7\n224: WIFI-AP-WGQ-4L-A1-7 ---- 225: WIFI-AP-WGQ-4L-A1-5\n225: WIFI-AP-WGQ-4L-A1-5 ---- 226: WIFI-AP-WGQ-3L-A1-2\n226: WIFI-AP-WGQ-3L-A1-2 ---- 227: WIFI-AP-WGQ-3L-A1-1\n227: WIFI-AP-WGQ-3L-A1-1 ---- 228: WIFI-AP-WGQ-3L-A1-3\n228: WIFI-AP-WGQ-3L-A1-3 ---- 229: WIFI-AP-WGQ-3L-A1-4\n229: WIFI-AP-WGQ-3L-A1-4 ---- 230: WIFI-AP-WGQ-3L-A1-5\n230: WIFI-AP-WGQ-3L-A1-5 ---- 231: WIFI-AP-WGQ-3L-A1-6\n231: WIFI-AP-WGQ-3L-A1-6 ---- 232: WIFI-AP-WGQ-3L-A1-7\n232: WIFI-AP-WGQ-3L-A1-7 ---- 233: WIFI-AP-WGQ-3L-A1-8\n233: WIFI-AP-WGQ-3L-A1-8 ---- 234: WIFI-AP-WGQ-3L-A1-9\n234: WIFI-AP-WGQ-3L-A1-9 ---- 235: WIFI-AP-WGQ-3L-A1-10\n235: WIFI-AP-WGQ-3L-A1-10 ---- 236: WIFI-AP-WGQ-3L-A1-11\n236: WIFI-AP-WGQ-3L-A1-11 ---- 237: WIFI-AP-WGQ-3L-A1-12\n237: WIFI-AP-WGQ-3L-A1-12 ---- 238: WIFI-AP-WGQ-3L-A1-13\n238: WIFI-AP-WGQ-3L-A1-13 ---- 239: WIFI-AP-WGQ-JS-350-A1-4\n239: WIFI-AP-WGQ-JS-350-A1-4 ---- 240: WIFI-AP-WGQ-JS-416-A1-3\n240: WIFI-AP-WGQ-JS-416-A1-3 ---- 241: WIFI-AP-YCL-1L-A1-17\n241: WIFI-AP-YCL-1L-A1-17 ---- 242: WIFI-AP-YCL-1L-A1-13\n242: WIFI-AP-YCL-1L-A1-13 ---- 243: WIFI-AP-YCL-1L-A1-12\n243: WIFI-AP-YCL-1L-A1-12 ---- 244: WIFI-AP-YCL-1L-A1-14\n244: WIFI-AP-YCL-1L-A1-14 ---- 245: WIFI-AP-YCL-1L-A1-15\n245: WIFI-AP-YCL-1L-A1-15 ---- 246: WIFI-AP-YCL-1L-A1-16\n246: WIFI-AP-YCL-1L-A1-16 ---- 248: WIFI-AP-WGQ-2L-A1-15\n248: WIFI-AP-WGQ-2L-A1-15 ---- 249: WIFI-AP-WGQ-1L-A1-1\n249: WIFI-AP-WGQ-1L-A1-1 ---- 250: WIFI-AP-WGQ-2L-A1-13\n250: WIFI-AP-WGQ-2L-A1-13 ---- 251: WIFI-AP-WGQ-2L-A1-12\n251: WIFI-AP-WGQ-2L-A1-12 ---- 252: WIFI-AP-WGQ-2L-A1-5\n252: WIFI-AP-WGQ-2L-A1-5 ---- 253: WIFI-AP-WGQ-2L-A1-16\n253: WIFI-AP-WGQ-2L-A1-16 ---- 254: WIFI-AP-WGQ-2L-A1-17\n254: WIFI-AP-WGQ-2L-A1-17 ---- 255: WIFI-AP-WGQ-2L-A1-1\n255: WIFI-AP-WGQ-2L-A1-1 ---- 256: WIFI-AP-WGQ-1L-A1-14\n256: WIFI-AP-WGQ-1L-A1-14 ---- 257: WIFI-AP-WGQ-2L-A1-18\n257: WIFI-AP-WGQ-2L-A1-18 ---- 258: WIFI-AP-WGQ-1L-A1-13\n258: WIFI-AP-WGQ-1L-A1-13 ---- 259: WIFI-AP-WGQ-1L-A1-5\n259: WIFI-AP-WGQ-1L-A1-5 ---- 260: WIFI-AP-WGQ-2L-A1-6\n260: WIFI-AP-WGQ-2L-A1-6 ---- 261: WIFI-AP-WGQ-1L-A1-16\n261: WIFI-AP-WGQ-1L-A1-16 ---- 262: WIFI-AP-WGQ-1L-A1-4\n262: WIFI-AP-WGQ-1L-A1-4 ---- 263: WIFI-AP-WGQ-2L-A1-19\n263: WIFI-AP-WGQ-2L-A1-19 ---- 264: WIFI-AP-WGQ-2L-A1-14\n264: WIFI-AP-WGQ-2L-A1-14 ---- 265: WIFI-AP-WGQ-1L-A1-11\n265: WIFI-AP-WGQ-1L-A1-11 ---- 266: WIFI-AP-WGQ-1L-A1-3\n266: WIFI-AP-WGQ-1L-A1-3 ---- 267: WIFI-AP-WGQ-2L-A1-2\n267: WIFI-AP-WGQ-2L-A1-2 ---- 268: WIFI-AP-WGQ-2L-A1-4\n268: WIFI-AP-WGQ-2L-A1-4 ---- 269: WIFI-AP-WGQ-1L-A1-10\n269: WIFI-AP-WGQ-1L-A1-10 ---- 270: WIFI-AP-WGQ-2L-A1-22\n270: WIFI-AP-WGQ-2L-A1-22 ---- 271: WIFI-AP-WGQ-2L-A1-21\n271: WIFI-AP-WGQ-2L-A1-21 ---- 272: WIFI-AP-WGQ-JS-416-A1-2\n272: WIFI-AP-WGQ-JS-416-A1-2 ---- 275: WIFI-AP-WGQ-JS-3L-A1-6\n275: WIFI-AP-WGQ-JS-3L-A1-6 ---- 278: WIFI-AP-WGQ-JS-3L-A1-8\n278: WIFI-AP-WGQ-JS-3L-A1-8 ---- 282: WIFI-AP-WGQ-JS-3L-C1-1\n282: WIFI-AP-WGQ-JS-3L-C1-1 ---- 283: WIFI-AP-WGQ-JS-1L-A1-11\n283: WIFI-AP-WGQ-JS-1L-A1-11 ---- 284: WIFI-AP-WGQ-JS-1L-A1-10\n284: WIFI-AP-WGQ-JS-1L-A1-10 ---- 285: WIFI-AP-WGQ-JS-1L-A1-12\n285: WIFI-AP-WGQ-JS-1L-A1-12 ---- 286: WIFI-AP-WGQ-JS-1L-A1-1\n286: WIFI-AP-WGQ-JS-1L-A1-1 ---- 287: WIFI-AP-WGQ-JS-1L-A1-2\n287: WIFI-AP-WGQ-JS-1L-A1-2 ---- 288: WIFI-AP-WGQ-JS-1L-A1-3\n288: WIFI-AP-WGQ-JS-1L-A1-3 ---- 289: WIFI-AP-WGQ-JS-1L-A1-4\n289: WIFI-AP-WGQ-JS-1L-A1-4 ---- 290: WIFI-AP-WGQ-JS-1L-A1-5\n290: WIFI-AP-WGQ-JS-1L-A1-5 ---- 291: WIFI-AP-WGQ-JS-1L-A1-7\n291: WIFI-AP-WGQ-JS-1L-A1-7 ---- 292: WIFI-AP-WGQ-JS-1L-A1-6\n292: WIFI-AP-WGQ-JS-1L-A1-6 ---- 293: WIFI-AP-WGQ-JS-1L-A1-9\n293: WIFI-AP-WGQ-JS-1L-A1-9 ---- 294: WIFI-AP-WGQ-JS-1L-A1-8\n294: WIFI-AP-WGQ-JS-1L-A1-8 ---- 311: WIFI-AP-WGQ-JS-416-A1-1\n311: WIFI-AP-WGQ-JS-416-A1-1 ---- 312: WIFI-AP-WGQ-JS-350-C1-5\n312: WIFI-AP-WGQ-JS-350-C1-5 ---- 313: WIFI-AP-LJZ-S10-A1-9\n313: WIFI-AP-LJZ-S10-A1-9 ---- 314: WIFI-LJZ-3D-GE0/0/2\n314: WIFI-LJZ-3D-GE0/0/2 ---- 315: WIFI-LJZ-3D-GE0/0/1\n315: WIFI-LJZ-3D-GE0/0/1 ---- 316: WIFI-LJZ-3D-GE0/0/5\n316: WIFI-LJZ-3D-GE0/0/5 ---- 317: WIFI-LJZ-3D-GE0/0/3\n317: WIFI-LJZ-3D-GE0/0/3 ---- 318: WIFI-LJZ-3D-GE0/0/4\n318: WIFI-LJZ-3D-GE0/0/4 ---- 319: WIFI-AP-WGQ-1L-A1-18\n319: WIFI-AP-WGQ-1L-A1-18 ---- 320: WIFI-AP-LJZ-S10-A1-8\n320: WIFI-AP-LJZ-S10-A1-8 ---- 321: WIFI-AP-WGQ-1L-A1-17\n321: WIFI-AP-WGQ-1L-A1-17 ---- 322: WIFI-AP-WGQ-JS-416-A1-4\n322: WIFI-AP-WGQ-JS-416-A1-4 ---- 323: WIFI-AP-WGQ-JS-416-A1-5\n323: WIFI-AP-WGQ-JS-416-A1-5 ---- 324: WIFI-AP-WGQ-4L-A1-4\n324: WIFI-AP-WGQ-4L-A1-4 ---- 325: WIFI-AP-WGQ-4L-A1-2\n325: WIFI-AP-WGQ-4L-A1-2 ---- 365: WIFI-AP-GKH-35L-A1-24\n365: WIFI-AP-GKH-35L-A1-24 ---- 382: 446a-2e04-aa60\n382: 446a-2e04-aa60 ---- 383: 446a-2e04-afa0\n383: 446a-2e04-afa0 ---- 384: 10c1-7208-b080\n384: 10c1-7208-b080 ---- 385: 10c1-7208-b0c0\n385: 10c1-7208-b0c0 ---- 386: 10c1-7208-b160\n386: 10c1-7208-b160 ---- 387: WIFI-AP-LJZ-S8-A1-4\n387: WIFI-AP-LJZ-S8-A1-4 ---- 388: WIFI-AP-LJZ-S5-A1-3\n388: WIFI-AP-LJZ-S5-A1-3 ---- 389: WIFI-AP-LJZ-S3-A1-6\n389: WIFI-AP-LJZ-S3-A1-6 ---- 390: WIFI-AP-LJZ-N2-A1-2\n390: WIFI-AP-LJZ-N2-A1-2 ---- 391: wdsA_leaf1\n391: wdsA_leaf1 ---- 392: wdsA_root\n392: wdsA_root ---- 393: wdsB_root\n393: wdsB_root ---- 394: wdsB_leaf1\n394: wdsB_leaf1 ---- 395: wdsB_leaf2\n395: wdsB_leaf2 ---- 396: wdsA_leaf2\n396: wdsA_leaf2 ---- 397: 10c1-7208-afe0\n397: 10c1-7208-afe0 ---- 398: 446a-2e04-2740\n398: 446a-2e04-2740 ---- 399: 446a-2e04-27a0\n399: 446a-2e04-27a0 ---- 400: 10c1-7208-afc0\n400: 10c1-7208-afc0 ---- 401: 10c1-7208-9d00\n401: 10c1-7208-9d00 ---- 402: 10c1-7208-af80\n402: 10c1-7208-af80 ---- 403: 10c1-7208-aa60\n403: 10c1-7208-aa60 ---- 404: 10c1-7208-ab60\n404: 10c1-7208-ab60 ---- 405: 446a-2e04-da40\n405: 446a-2e04-da40 ---- 406: 446a-2e04-dae0\n406: 446a-2e04-dae0 ---- 407: 446a-2e04-daa0\n407: 446a-2e04-daa0 ---- 408: lobby_north\n408: lobby_north ---- 409: lobby_west\n409: lobby_west ---- 410: lobby_NB1\n410: lobby_NB1 ---- 411: lobby_south\n411: lobby_south ---- 412: lobby_east\n412: lobby_east ---- 413: 2841-c680-69e0\n413: 2841-c680-69e0 ---- 414: 2841-c680-6fa0\n414: 2841-c680-6fa0 ---- 415: 2841-c680-6fc0\n415: 2841-c680-6fc0 ---- 416: 2841-c680-69a0\n416: 2841-c680-69a0 ---- 417: 2841-c680-6a80\n417: 2841-c680-6a80 ---- 418: 2841-c680-6a40\n418: 2841-c680-6a40 ---- 419: 2841-c680-6920\n419: 2841-c680-6920 ---- 420: 2841-c680-6980\n420: 2841-c680-6980 ---- 421: 2841-c680-68c0\n421: 2841-c680-68c0 ---- 422: a4be-2b5b-8960\n422: a4be-2b5b-8960 ---- 423: 2841-c680-68e0\n423: 2841-c680-68e0 ---- 424: 2841-c680-6a20\n424: 2841-c680-6a20 ---- 425: a4be-2b5b-8d00\n425: a4be-2b5b-8d00 ---- 426: 2841-c680-69c0\n426: 2841-c680-69c0 ---- 427: 2841-c680-6560\n427: 2841-c680-6560 ---- 428: 84a9-c4b1-c960\n428: 84a9-c4b1-c960 ---- 429: 2841-c680-6960\n429: 2841-c680-6960 ---- 430: 84a9-c4b1-cb80\n430: 84a9-c4b1-cb80 ---- 431: 84a9-c4b1-c520\n431: 84a9-c4b1-c520 ---- 432: temp-test-S2\n432: temp-test-S2 ---- 433: 10c1-7208-ac20\n433: 10c1-7208-ac20 ---- 434: 10c1-7208-ab40\n434: 10c1-7208-ab40 ---- 435: 10c1-7208-b1a0\n435: 10c1-7208-b1a0 ---- 436: 10c1-7208-b1c0\n436: 10c1-7208-b1c0 ---- 437: 10c1-7208-b140\n437: 10c1-7208-b140 ---- 438: 10c1-7208-b180\n438: 10c1-7208-b180 ---- 439: 10c1-7208-b000\n439: 10c1-7208-b000 ---- 440: WGQ-ST-XiaoFangJian\n440: WGQ-ST-XiaoFangJian ---- 441: 10c1-7208-a680\n441: 10c1-7208-a680 ---- 442: 10c1-7208-9c80\n442: 10c1-7208-9c80 ---- 443: WGQ-ST-DaFangJian\n443: WGQ-ST-DaFangJian ---- 444: WGQ-ST-DaFangJian2\n"
     ]
    }
   ],
   "source": [
    "for (key1, value1), (key2, value2) in zip(hashdic.items(), hashdic_diff.items()):\n",
    "    print(key1 + ': ' + value1[0] + ' ---- ' + key2 + ': ' + value2[0])"
   ]
  },
  {
   "cell_type": "code",
   "execution_count": 43,
   "metadata": {},
   "outputs": [
    {
     "output_type": "stream",
     "name": "stdout",
     "text": [
      "idlist - idlist_diff is: ['120']\nidlist_diff - idlist is: []\n"
     ]
    }
   ],
   "source": [
    "new_items = list(set(idlist).difference(set(idlist_diff)))\n",
    "remove_items = list(set(idlist_diff).difference(set(idlist)))\n",
    "print('idlist - idlist_diff is: ' + str(new_items))\n",
    "print('idlist_diff - idlist is: ' + str(remove_items))\n"
   ]
  },
  {
   "cell_type": "code",
   "execution_count": 45,
   "metadata": {},
   "outputs": [
    {
     "output_type": "error",
     "ename": "KeyError",
     "evalue": "'120'",
     "traceback": [
      "\u001b[1;31m---------------------------------------------------------------------------\u001b[0m",
      "\u001b[1;31mKeyError\u001b[0m                                  Traceback (most recent call last)",
      "\u001b[1;32m<ipython-input-45-a7734d06fc36>\u001b[0m in \u001b[0;36m<module>\u001b[1;34m\u001b[0m\n\u001b[1;32m----> 1\u001b[1;33m \u001b[0mhashdic\u001b[0m\u001b[1;33m.\u001b[0m\u001b[0mpop\u001b[0m\u001b[1;33m(\u001b[0m\u001b[0mnew_items\u001b[0m\u001b[1;33m[\u001b[0m\u001b[1;36m0\u001b[0m\u001b[1;33m]\u001b[0m\u001b[1;33m)\u001b[0m\u001b[1;33m\u001b[0m\u001b[1;33m\u001b[0m\u001b[0m\n\u001b[0m\u001b[0;32m      2\u001b[0m \u001b[0mhashdic\u001b[0m\u001b[1;33m[\u001b[0m\u001b[0mnew_items\u001b[0m\u001b[1;33m]\u001b[0m\u001b[1;33m\u001b[0m\u001b[1;33m\u001b[0m\u001b[0m\n",
      "\u001b[1;31mKeyError\u001b[0m: '120'"
     ]
    }
   ],
   "source": [
    "hashdic.pop(new_items[0])\n",
    "hashdic[new_items]"
   ]
  },
  {
   "cell_type": "code",
   "execution_count": null,
   "metadata": {},
   "outputs": [],
   "source": [
    "import pandas as pd\n",
    "import difflib"
   ]
  },
  {
   "cell_type": "code",
   "execution_count": null,
   "metadata": {},
   "outputs": [],
   "source": [
    "data = pd.read_csv(os.getcwd() + os.sep + 'aplist.csv', encoding='utf-8')\n",
    "data_diff = pd.read_csv(os.getcwd() + os.sep + 'aplist_diff.csv', encoding='utf-8')\n",
    "print(data.columns)"
   ]
  },
  {
   "cell_type": "code",
   "execution_count": null,
   "metadata": {},
   "outputs": [],
   "source": [
    "print(data.loc[0])"
   ]
  },
  {
   "cell_type": "code",
   "execution_count": null,
   "metadata": {},
   "outputs": [],
   "source": [
    "print(data.loc[0] == data_diff.loc[0])"
   ]
  },
  {
   "cell_type": "code",
   "execution_count": null,
   "metadata": {},
   "outputs": [],
   "source": [
    "idlist = []\n",
    "idlist_diff = []\n",
    "for i in range(0, data.shape[0]):\n",
    "    idlist.append(data.loc[i]['AP ID'])\n",
    "for i in range(0, data_diff.shape[0]):\n",
    "    idlist_diff.append(data_diff.loc[i]['AP ID'])\n",
    "# print(idlist)\n",
    "# ','.join(idlist)\n"
   ]
  },
  {
   "cell_type": "code",
   "execution_count": null,
   "metadata": {},
   "outputs": [],
   "source": [
    "int p1 = 0\n",
    "int p2 = 0"
   ]
  },
  {
   "cell_type": "code",
   "execution_count": null,
   "metadata": {},
   "outputs": [],
   "source": []
  }
 ]
}